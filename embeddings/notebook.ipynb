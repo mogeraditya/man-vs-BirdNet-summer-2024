{
 "cells": [
  {
   "cell_type": "code",
   "execution_count": 2,
   "metadata": {},
   "outputs": [
    {
     "name": "stdout",
     "output_type": "stream",
     "text": [
      "      Location Weather  Temperature       Date      Time  \\\n",
      "0           B7  cloudy          NaN 2024-05-23  07:00:00   \n",
      "1           B7  cloudy          NaN 2024-05-23  07:00:00   \n",
      "2           B7  cloudy          NaN 2024-05-23  07:00:00   \n",
      "3           B7  cloudy          NaN 2024-05-23  07:00:00   \n",
      "4           B7  cloudy          NaN 2024-05-23  07:00:00   \n",
      "...        ...     ...          ...        ...       ...   \n",
      "25252  Jubilee  cloudy          NaN 2022-11-26  09:00:00   \n",
      "25253  Jubilee  cloudy          NaN 2022-11-26  09:00:00   \n",
      "25254  Jubilee  cloudy          NaN 2022-11-26  09:00:00   \n",
      "25255  Jubilee  cloudy          NaN 2022-11-26  09:00:00   \n",
      "25256  Jubilee  cloudy          NaN 2022-11-26  09:00:00   \n",
      "\n",
      "                       Names No. of individuals seen No. of individuals heard  \\\n",
      "0                 black kite                       0                        1   \n",
      "1          large billed crow                       0                        0   \n",
      "2          common tailorbird                       0                        1   \n",
      "3       white cheeked barbet                       0                        2   \n",
      "4                common myna                       0                        1   \n",
      "...                      ...                     ...                      ...   \n",
      "25252            ashy drongo                       0                        1   \n",
      "25253   blythes reed warbler                       0                        1   \n",
      "25254            common myna                       0                        1   \n",
      "25255      large billed crow                       0                        2   \n",
      "25256  oriental magpie robin                       1                        0   \n",
      "\n",
      "      No. of individuals seen and heard Comments Unnamed: 10 Unnamed: 11  \\\n",
      "0                                     0      NaN         NaN         NaN   \n",
      "1                                     2      NaN         NaN         NaN   \n",
      "2                                     0      NaN         NaN         NaN   \n",
      "3                                     0      NaN         NaN         NaN   \n",
      "4                                     0      NaN         NaN         NaN   \n",
      "...                                 ...      ...         ...         ...   \n",
      "25252                                 0      NaN         NaN         NaN   \n",
      "25253                                 0      NaN         NaN         NaN   \n",
      "25254                                 0      NaN         NaN         NaN   \n",
      "25255                                 0      NaN         NaN         NaN   \n",
      "25256                                 0      NaN         NaN         NaN   \n",
      "\n",
      "       Unnamed: 12  Unnamed: 13  Unnamed: 14  Unnamed: 15  Unnamed: 16  \\\n",
      "0              NaN          NaN          NaN          NaN          NaN   \n",
      "1              NaN          NaN          NaN          NaN          NaN   \n",
      "2              NaN          NaN          NaN          NaN          NaN   \n",
      "3              NaN          NaN          NaN          NaN          NaN   \n",
      "4              NaN          NaN          NaN          NaN          NaN   \n",
      "...            ...          ...          ...          ...          ...   \n",
      "25252          NaN          NaN          NaN          NaN          NaN   \n",
      "25253          NaN          NaN          NaN          NaN          NaN   \n",
      "25254          NaN          NaN          NaN          NaN          NaN   \n",
      "25255          NaN          NaN          NaN          NaN          NaN   \n",
      "25256          NaN          NaN          NaN          NaN          NaN   \n",
      "\n",
      "      Unnamed: 17  \n",
      "0             NaN  \n",
      "1             NaN  \n",
      "2             NaN  \n",
      "3             NaN  \n",
      "4             NaN  \n",
      "...           ...  \n",
      "25252         NaN  \n",
      "25253         NaN  \n",
      "25254         NaN  \n",
      "25255         NaN  \n",
      "25256         NaN  \n",
      "\n",
      "[25257 rows x 18 columns]\n"
     ]
    }
   ],
   "source": [
    "import os\n",
    "import glob\n",
    "import pandas as pd\n",
    "import numpy as np\n",
    "\n",
    "def make_dir(new_dir): \n",
    "    if not os.path.exists(new_dir):\n",
    "        os.makedirs(new_dir)\n",
    "    return \"made dir \" + str(new_dir)\n",
    "\n",
    "#goal is to generate a list of bird names across the whole dataset.\n",
    "wd= \"D:\\\\github\\\\man-vs-BirdNet-summer-2024-\\\\embeddings\"\n",
    "common_resources= wd+ \"\\\\common_resources\\\\\"\n",
    "os.chdir(common_resources)\n",
    "df= pd.read_excel(\"current_training_dataset.xlsx\")\n",
    "os.chdir(wd)\n",
    "print(df)"
   ]
  },
  {
   "cell_type": "code",
   "execution_count": 24,
   "metadata": {},
   "outputs": [
    {
     "data": {
      "text/plain": [
       "23.0"
      ]
     },
     "execution_count": 24,
     "metadata": {},
     "output_type": "execute_result"
    }
   ],
   "source": [
    "#goal to label with time code\n",
    "from datetime import datetime\n",
    "def find_difference_in_minutes(time1, time2):\n",
    "    t1= datetime.strptime(str(time1), \"%H:%M:%S\")\n",
    "    t2= datetime.strptime(str(time2), \"%H:%M:%S\")\n",
    "    difference= t2-t1\n",
    "    minutes= difference.total_seconds()/60\n",
    "    return minutes"
   ]
  }
 ],
 "metadata": {
  "kernelspec": {
   "display_name": "Python 3",
   "language": "python",
   "name": "python3"
  },
  "language_info": {
   "codemirror_mode": {
    "name": "ipython",
    "version": 3
   },
   "file_extension": ".py",
   "mimetype": "text/x-python",
   "name": "python",
   "nbconvert_exporter": "python",
   "pygments_lexer": "ipython3",
   "version": "3.11.9"
  }
 },
 "nbformat": 4,
 "nbformat_minor": 2
}
